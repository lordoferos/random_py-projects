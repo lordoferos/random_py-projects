{
 "metadata": {
  "language_info": {
   "codemirror_mode": {
    "name": "ipython",
    "version": 3
   },
   "file_extension": ".py",
   "mimetype": "text/x-python",
   "name": "python",
   "nbconvert_exporter": "python",
   "pygments_lexer": "ipython3",
   "version": "3.7.6-final"
  },
  "orig_nbformat": 2,
  "kernelspec": {
   "name": "python_defaultSpec_1598372778170",
   "display_name": "Python 3.7.6 64-bit ('base': conda)"
  }
 },
 "nbformat": 4,
 "nbformat_minor": 2,
 "cells": [
  {
   "cell_type": "code",
   "execution_count": 1,
   "metadata": {},
   "outputs": [
    {
     "output_type": "execute_result",
     "data": {
      "text/plain": "65"
     },
     "metadata": {},
     "execution_count": 1
    }
   ],
   "source": [
    "ord('A')"
   ]
  },
  {
   "cell_type": "code",
   "execution_count": 2,
   "metadata": {},
   "outputs": [
    {
     "output_type": "execute_result",
     "data": {
      "text/plain": "'A'"
     },
     "metadata": {},
     "execution_count": 2
    }
   ],
   "source": [
    "chr(65)"
   ]
  },
  {
   "cell_type": "code",
   "execution_count": 3,
   "metadata": {},
   "outputs": [
    {
     "output_type": "execute_result",
     "data": {
      "text/plain": "'A'"
     },
     "metadata": {},
     "execution_count": 3
    }
   ],
   "source": [
    "chr(0x41)"
   ]
  },
  {
   "cell_type": "code",
   "execution_count": 4,
   "metadata": {},
   "outputs": [
    {
     "output_type": "execute_result",
     "data": {
      "text/plain": "str"
     },
     "metadata": {},
     "execution_count": 4
    }
   ],
   "source": [
    "text_str = 'The quick brown fox jumped over the lazy dogs.'\n",
    "type(text_str)"
   ]
  },
  {
   "cell_type": "code",
   "execution_count": 6,
   "metadata": {},
   "outputs": [
    {
     "output_type": "execute_result",
     "data": {
      "text/plain": "bytes"
     },
     "metadata": {},
     "execution_count": 6
    }
   ],
   "source": [
    "byte_str = b'The quick brown fox jumped over the lazy dogs.'\n",
    "type(byte_str)\n"
   ]
  },
  {
   "cell_type": "code",
   "execution_count": 7,
   "metadata": {},
   "outputs": [
    {
     "output_type": "execute_result",
     "data": {
      "text/plain": "b'The quick brown fox jumped over the lazy dogs.'"
     },
     "metadata": {},
     "execution_count": 7
    }
   ],
   "source": [
    "text_str.encode('utf-8')"
   ]
  },
  {
   "cell_type": "code",
   "execution_count": 8,
   "metadata": {},
   "outputs": [
    {
     "output_type": "execute_result",
     "data": {
      "text/plain": "False"
     },
     "metadata": {},
     "execution_count": 8
    }
   ],
   "source": [
    "'foo' == b'foo'"
   ]
  },
  {
   "cell_type": "code",
   "execution_count": 9,
   "metadata": {},
   "outputs": [],
   "source": [
    "d = {'foo':'bar'}"
   ]
  },
  {
   "cell_type": "code",
   "execution_count": 10,
   "metadata": {},
   "outputs": [
    {
     "output_type": "error",
     "ename": "KeyError",
     "evalue": "b'foo'",
     "traceback": [
      "\u001b[1;31m---------------------------------------------------------------------------\u001b[0m",
      "\u001b[1;31mKeyError\u001b[0m                                  Traceback (most recent call last)",
      "\u001b[1;32m<ipython-input-10-bda39133a9bb>\u001b[0m in \u001b[0;36m<module>\u001b[1;34m\u001b[0m\n\u001b[1;32m----> 1\u001b[1;33m \u001b[0md\u001b[0m\u001b[1;33m[\u001b[0m\u001b[1;34mb'foo'\u001b[0m\u001b[1;33m]\u001b[0m\u001b[1;33m\u001b[0m\u001b[1;33m\u001b[0m\u001b[0m\n\u001b[0m",
      "\u001b[1;31mKeyError\u001b[0m: b'foo'"
     ]
    }
   ],
   "source": [
    "d[b'foo']"
   ]
  },
  {
   "cell_type": "code",
   "execution_count": 11,
   "metadata": {},
   "outputs": [
    {
     "output_type": "error",
     "ename": "TypeError",
     "evalue": "%b requires a bytes-like object, or an object that implements __bytes__, not 'str'",
     "traceback": [
      "\u001b[1;31m---------------------------------------------------------------------------\u001b[0m",
      "\u001b[1;31mTypeError\u001b[0m                                 Traceback (most recent call last)",
      "\u001b[1;32m<ipython-input-11-133205f79773>\u001b[0m in \u001b[0;36m<module>\u001b[1;34m\u001b[0m\n\u001b[1;32m----> 1\u001b[1;33m \u001b[1;34mb'foo %s'\u001b[0m \u001b[1;33m%\u001b[0m \u001b[1;34m'bar'\u001b[0m\u001b[1;33m\u001b[0m\u001b[1;33m\u001b[0m\u001b[0m\n\u001b[0m",
      "\u001b[1;31mTypeError\u001b[0m: %b requires a bytes-like object, or an object that implements __bytes__, not 'str'"
     ]
    }
   ],
   "source": [
    "b'foo %s' % 'bar'"
   ]
  },
  {
   "cell_type": "code",
   "execution_count": 12,
   "metadata": {},
   "outputs": [
    {
     "output_type": "execute_result",
     "data": {
      "text/plain": "\"foo b'bar'\""
     },
     "metadata": {},
     "execution_count": 12
    }
   ],
   "source": [
    "'foo %s' % b'bar'"
   ]
  },
  {
   "cell_type": "code",
   "execution_count": 13,
   "metadata": {},
   "outputs": [],
   "source": [
    "with open('dulinks3.txt', 'r') as f:\n",
    "    text_str = f.read()"
   ]
  },
  {
   "cell_type": "code",
   "execution_count": 15,
   "metadata": {},
   "outputs": [
    {
     "output_type": "execute_result",
     "data": {
      "text/plain": "'cp1252'"
     },
     "metadata": {},
     "execution_count": 15
    }
   ],
   "source": [
    "import locale\n",
    "locale.getpreferredencoding()"
   ]
  },
  {
   "cell_type": "code",
   "execution_count": 17,
   "metadata": {
    "tags": []
   },
   "outputs": [
    {
     "output_type": "stream",
     "name": "stdout",
     "text": "Γεια σας, τον κόσμο.\n"
    }
   ],
   "source": [
    "# -*- coding: utf-8 -*-\n",
    "text_str = u'Γεια σας, τον κόσμο.'\n",
    "print(text_str)"
   ]
  },
  {
   "cell_type": "code",
   "execution_count": 18,
   "metadata": {},
   "outputs": [],
   "source": [
    "haystack = 'My phone number is 213-867-5309.'"
   ]
  },
  {
   "cell_type": "code",
   "execution_count": 19,
   "metadata": {},
   "outputs": [
    {
     "output_type": "execute_result",
     "data": {
      "text/plain": "True"
     },
     "metadata": {},
     "execution_count": 19
    }
   ],
   "source": [
    "'213-867-5309' in haystack"
   ]
  },
  {
   "cell_type": "code",
   "execution_count": 23,
   "metadata": {},
   "outputs": [],
   "source": [
    "import re\n",
    "\n",
    "tab=re.search(r'fox', 'The quick brown fox jumped...')"
   ]
  },
  {
   "cell_type": "code",
   "execution_count": 26,
   "metadata": {},
   "outputs": [
    {
     "output_type": "execute_result",
     "data": {
      "text/plain": "'fox'"
     },
     "metadata": {},
     "execution_count": 26
    }
   ],
   "source": [
    "tab.group(0)"
   ]
  },
  {
   "cell_type": "code",
   "execution_count": 27,
   "metadata": {},
   "outputs": [
    {
     "output_type": "execute_result",
     "data": {
      "text/plain": "'fox'"
     },
     "metadata": {},
     "execution_count": 27
    }
   ],
   "source": [
    "match = re.search(r'fox', 'The quick brown fox jumped..')\n",
    "match.group()"
   ]
  },
  {
   "cell_type": "code",
   "execution_count": 28,
   "metadata": {},
   "outputs": [
    {
     "output_type": "execute_result",
     "data": {
      "text/plain": "['o', 'o', 'o', 'o']"
     },
     "metadata": {},
     "execution_count": 28
    }
   ],
   "source": [
    "# Finding more than one match\n",
    "import re\n",
    "re.findall(r'o', 'The quick brown fox jumped over the lazy dogs')"
   ]
  },
  {
   "cell_type": "code",
   "execution_count": 31,
   "metadata": {},
   "outputs": [
    {
     "output_type": "execute_result",
     "data": {
      "text/plain": "<re.Match object; span=(0, 6), match='Python'>"
     },
     "metadata": {},
     "execution_count": 31
    }
   ],
   "source": [
    "re.search(r'Python', 'Python 3')\n"
   ]
  },
  {
   "cell_type": "code",
   "execution_count": 32,
   "metadata": {},
   "outputs": [
    {
     "output_type": "execute_result",
     "data": {
      "text/plain": "<re.Match object; span=(8, 14), match='Python'>"
     },
     "metadata": {},
     "execution_count": 32
    }
   ],
   "source": [
    "re.search(r'Python', 'This is Python code')"
   ]
  },
  {
   "cell_type": "code",
   "execution_count": 34,
   "metadata": {},
   "outputs": [
    {
     "output_type": "execute_result",
     "data": {
      "text/plain": "<re.Match object; span=(0, 6), match='python'>"
     },
     "metadata": {},
     "execution_count": 34
    }
   ],
   "source": [
    "# Character classes\n",
    "re.search(r'[Pp]ython', 'python 3')"
   ]
  },
  {
   "cell_type": "code",
   "execution_count": 36,
   "metadata": {},
   "outputs": [
    {
     "output_type": "execute_result",
     "data": {
      "text/plain": "<re.Match object; span=(0, 4), match='grey'>"
     },
     "metadata": {},
     "execution_count": 36
    }
   ],
   "source": [
    "re.search(r'gr[ae]y', 'grey')"
   ]
  },
  {
   "cell_type": "code",
   "execution_count": 37,
   "metadata": {},
   "outputs": [
    {
     "output_type": "execute_result",
     "data": {
      "text/plain": "<re.Match object; span=(0, 1), match='x'>"
     },
     "metadata": {},
     "execution_count": 37
    }
   ],
   "source": [
    "re.search(r'[a-zA-Z]', 'x')"
   ]
  },
  {
   "cell_type": "code",
   "execution_count": 38,
   "metadata": {},
   "outputs": [
    {
     "output_type": "execute_result",
     "data": {
      "text/plain": "<re.Match object; span=(0, 1), match='B'>"
     },
     "metadata": {},
     "execution_count": 38
    }
   ],
   "source": [
    "re.search(r'[a-zA-Z]', 'B')"
   ]
  },
  {
   "cell_type": "code",
   "execution_count": 39,
   "metadata": {},
   "outputs": [
    {
     "output_type": "execute_result",
     "data": {
      "text/plain": "<re.Match object; span=(0, 1), match='4'>"
     },
     "metadata": {},
     "execution_count": 39
    }
   ],
   "source": [
    "re.search(r'[^a-z]', '4')"
   ]
  },
  {
   "cell_type": "code",
   "execution_count": 40,
   "metadata": {},
   "outputs": [
    {
     "output_type": "execute_result",
     "data": {
      "text/plain": "<re.Match object; span=(0, 1), match='#'>"
     },
     "metadata": {},
     "execution_count": 40
    }
   ],
   "source": [
    "re.search(r'[^a-z]', '#')"
   ]
  },
  {
   "cell_type": "code",
   "execution_count": 41,
   "metadata": {},
   "outputs": [
    {
     "output_type": "execute_result",
     "data": {
      "text/plain": "<re.Match object; span=(0, 1), match='X'>"
     },
     "metadata": {},
     "execution_count": 41
    }
   ],
   "source": [
    "re.search(r'[^a-z]', 'X')"
   ]
  },
  {
   "cell_type": "code",
   "execution_count": 42,
   "metadata": {},
   "outputs": [
    {
     "output_type": "execute_result",
     "data": {
      "text/plain": "<re.Match object; span=(2, 4), match='na'>"
     },
     "metadata": {},
     "execution_count": 42
    }
   ],
   "source": [
    "re.search(r'n[^e]', 'final')"
   ]
  },
  {
   "cell_type": "code",
   "execution_count": 45,
   "metadata": {},
   "outputs": [
    {
     "output_type": "execute_result",
     "data": {
      "text/plain": "<re.Match object; span=(0, 4), match='corn'>"
     },
     "metadata": {},
     "execution_count": 45
    }
   ],
   "source": [
    "re.search(r'\\bcorn\\b', 'corn')"
   ]
  },
  {
   "cell_type": "code",
   "execution_count": 46,
   "metadata": {},
   "outputs": [
    {
     "output_type": "execute_result",
     "data": {
      "text/plain": "<re.Match object; span=(0, 1), match='P'>"
     },
     "metadata": {},
     "execution_count": 46
    }
   ],
   "source": [
    "re.search(r'\\w', 'Python 3')"
   ]
  },
  {
   "cell_type": "code",
   "execution_count": 48,
   "metadata": {},
   "outputs": [
    {
     "output_type": "execute_result",
     "data": {
      "text/plain": "['3']"
     },
     "metadata": {},
     "execution_count": 48
    }
   ],
   "source": [
    "re.findall(r'\\b\\w\\b', 'Python 3')"
   ]
  },
  {
   "cell_type": "code",
   "execution_count": 49,
   "metadata": {},
   "outputs": [
    {
     "output_type": "execute_result",
     "data": {
      "text/plain": "<re.Match object; span=(0, 4), match='corn'>"
     },
     "metadata": {},
     "execution_count": 49
    }
   ],
   "source": [
    "re.search(r'corn\\B', 'corner')"
   ]
  },
  {
   "cell_type": "code",
   "execution_count": 50,
   "metadata": {},
   "outputs": [],
   "source": [
    "re.search(r'^Python', 'This code is in Python')"
   ]
  },
  {
   "cell_type": "code",
   "execution_count": 51,
   "metadata": {},
   "outputs": [
    {
     "output_type": "execute_result",
     "data": {
      "text/plain": "<re.Match object; span=(0, 6), match='Python'>"
     },
     "metadata": {},
     "execution_count": 51
    }
   ],
   "source": [
    "re.search(r'^Python', 'Python 3')"
   ]
  },
  {
   "cell_type": "code",
   "execution_count": 52,
   "metadata": {},
   "outputs": [],
   "source": [
    "# End of the string\n",
    "re.search(r'fox$', 'The quick brown fox jumped over the lazy dogs.')"
   ]
  },
  {
   "cell_type": "code",
   "execution_count": 53,
   "metadata": {},
   "outputs": [
    {
     "output_type": "execute_result",
     "data": {
      "text/plain": "<re.Match object; span=(16, 19), match='fox'>"
     },
     "metadata": {},
     "execution_count": 53
    }
   ],
   "source": [
    "re.search(r'fox$', 'The quick brown fox')"
   ]
  },
  {
   "cell_type": "code",
   "execution_count": 61,
   "metadata": {},
   "outputs": [
    {
     "output_type": "execute_result",
     "data": {
      "text/plain": "<re.Match object; span=(0, 6), match='python'>"
     },
     "metadata": {},
     "execution_count": 61
    }
   ],
   "source": [
    "re.search(r'p.th.n', 'python 3')"
   ]
  },
  {
   "cell_type": "code",
   "execution_count": 62,
   "metadata": {},
   "outputs": [
    {
     "output_type": "execute_result",
     "data": {
      "text/plain": "<re.Match object; span=(0, 6), match='python'>"
     },
     "metadata": {},
     "execution_count": 62
    }
   ],
   "source": [
    "re.search(r'p..hon', 'python 3')"
   ]
  },
  {
   "cell_type": "code",
   "execution_count": 73,
   "metadata": {},
   "outputs": [
    {
     "output_type": "execute_result",
     "data": {
      "text/plain": "<re.Match object; span=(15, 21), match='honofr'>"
     },
     "metadata": {},
     "execution_count": 73
    }
   ],
   "source": [
    "# Optional characters\n",
    "re.search(r'honou?r', 'He served with honor and distinction.')"
   ]
  },
  {
   "cell_type": "code",
   "execution_count": 74,
   "metadata": {},
   "outputs": [
    {
     "output_type": "execute_result",
     "data": {
      "text/plain": "<re.Match object; span=(0, 8), match='867-5309'>"
     },
     "metadata": {},
     "execution_count": 74
    }
   ],
   "source": [
    "re.search(r'[\\d]{3}-[\\d]{4}', '867-5309 / Jenny')"
   ]
  },
  {
   "cell_type": "code",
   "execution_count": 76,
   "metadata": {},
   "outputs": [
    {
     "output_type": "execute_result",
     "data": {
      "text/plain": "<re.Match object; span=(0, 3), match='042'>"
     },
     "metadata": {},
     "execution_count": 76
    }
   ],
   "source": [
    "re.search(r'[\\d]{3,4}', '042')"
   ]
  },
  {
   "cell_type": "code",
   "execution_count": 78,
   "metadata": {},
   "outputs": [
    {
     "output_type": "execute_result",
     "data": {
      "text/plain": "<re.Match object; span=(0, 3), match='342'>"
     },
     "metadata": {},
     "execution_count": 78
    }
   ],
   "source": [
    "re.search(r'[\\d]{3,4}?', '3423')"
   ]
  },
  {
   "cell_type": "code",
   "execution_count": 80,
   "metadata": {},
   "outputs": [
    {
     "output_type": "execute_result",
     "data": {
      "text/plain": "<re.Match object; span=(0, 4), match='1600'>"
     },
     "metadata": {},
     "execution_count": 80
    }
   ],
   "source": [
    "# Open ended ranges\n",
    "re.search(r'[\\d]{1,}', '1600 Pennsylvania Ave.')"
   ]
  },
  {
   "cell_type": "code",
   "execution_count": 84,
   "metadata": {},
   "outputs": [
    {
     "output_type": "execute_result",
     "data": {
      "text/plain": "<re.Match object; span=(0, 5), match='16005'>"
     },
     "metadata": {},
     "execution_count": 84
    }
   ],
   "source": [
    "re.search(r'[\\d]+' ,'16005 34 Pennsylvania Ave.')"
   ]
  },
  {
   "cell_type": "code",
   "execution_count": 85,
   "metadata": {},
   "outputs": [],
   "source": [
    "match = re.search(r'([\\d]{3})-([\\d]{4})', '867-5309 / Jenny')"
   ]
  },
  {
   "cell_type": "code",
   "execution_count": 86,
   "metadata": {},
   "outputs": [
    {
     "output_type": "execute_result",
     "data": {
      "text/plain": "<re.Match object; span=(0, 8), match='867-5309'>"
     },
     "metadata": {},
     "execution_count": 86
    }
   ],
   "source": [
    "match"
   ]
  },
  {
   "cell_type": "code",
   "execution_count": 87,
   "metadata": {},
   "outputs": [
    {
     "output_type": "execute_result",
     "data": {
      "text/plain": "'867-5309'"
     },
     "metadata": {},
     "execution_count": 87
    }
   ],
   "source": [
    "match.group()"
   ]
  },
  {
   "cell_type": "code",
   "execution_count": 88,
   "metadata": {},
   "outputs": [
    {
     "output_type": "execute_result",
     "data": {
      "text/plain": "('867', '5309')"
     },
     "metadata": {},
     "execution_count": 88
    }
   ],
   "source": [
    "match.groups()"
   ]
  },
  {
   "cell_type": "code",
   "execution_count": 91,
   "metadata": {},
   "outputs": [
    {
     "output_type": "execute_result",
     "data": {
      "text/plain": "<re.Match object; span=(0, 14), match='(213) 867-5309'>"
     },
     "metadata": {},
     "execution_count": 91
    }
   ],
   "source": [
    "re.search(\n",
    "    r'(\\+?1)?[ .-]?\\(?([\\d]{3})\\)?[ .-]?([\\d]{3})[ .-]?([\\d]{4})',\n",
    "    '(213) 867-5309'\n",
    ")"
   ]
  },
  {
   "cell_type": "code",
   "execution_count": 92,
   "metadata": {},
   "outputs": [
    {
     "output_type": "execute_result",
     "data": {
      "text/plain": "<re.Match object; span=(0, 12), match='213-867-5309'>"
     },
     "metadata": {},
     "execution_count": 92
    }
   ],
   "source": [
    "re.search(\n",
    "    r'(\\+?1)?[ .-]?\\(?([\\d]{3})\\)?[ .-]?([\\d]{3})[ .-]?([\\d]{4})',\n",
    "    '213-867-5309'\n",
    ")"
   ]
  },
  {
   "cell_type": "code",
   "execution_count": 93,
   "metadata": {},
   "outputs": [
    {
     "output_type": "execute_result",
     "data": {
      "text/plain": "<re.Match object; span=(0, 12), match='213.867.5309'>"
     },
     "metadata": {},
     "execution_count": 93
    }
   ],
   "source": [
    "re.search(\n",
    "    r'(\\+?1)?[ .-]?\\(?([\\d]{3})\\)?[ .-]?([\\d]{3})[ .-]?([\\d]{4})',\n",
    "    '213.867.5309'\n",
    ")"
   ]
  },
  {
   "cell_type": "code",
   "execution_count": 98,
   "metadata": {},
   "outputs": [
    {
     "output_type": "execute_result",
     "data": {
      "text/plain": "<re.Match object; span=(0, 10), match='2138675309'>"
     },
     "metadata": {},
     "execution_count": 98
    }
   ],
   "source": [
    "re.search(\n",
    "    r'(\\+?1)?[ .-]?\\(?([\\d]{3})\\)?[ .-]?([\\d]{3})[ .-]?([\\d]{4})',\n",
    "    '2138675309'\n",
    ")"
   ]
  },
  {
   "cell_type": "code",
   "execution_count": 99,
   "metadata": {},
   "outputs": [
    {
     "output_type": "execute_result",
     "data": {
      "text/plain": "<re.Match object; span=(0, 16), match='+1(213) 867-5309'>"
     },
     "metadata": {},
     "execution_count": 99
    }
   ],
   "source": [
    "re.search(\n",
    "    r'(\\+?1)?[ .-]?\\(?([\\d]{3})\\)?[ .-]?([\\d]{3})[ .-]?([\\d]{4})', \n",
    "    '+1(213) 867-5309'\n",
    ")"
   ]
  },
  {
   "cell_type": "code",
   "execution_count": 100,
   "metadata": {},
   "outputs": [
    {
     "output_type": "execute_result",
     "data": {
      "text/plain": "<re.Match object; span=(0, 15), match='1(213) 867-5309'>"
     },
     "metadata": {},
     "execution_count": 100
    }
   ],
   "source": [
    "re.search(\n",
    "    r'(\\+?1)?[ .-]?\\(?([\\d]{3})\\)?[ .-]?([\\d]{3})[ .-]?([\\d]{4})',\n",
    "    '1(213) 867-5309'\n",
    ")"
   ]
  },
  {
   "cell_type": "code",
   "execution_count": 101,
   "metadata": {},
   "outputs": [
    {
     "output_type": "execute_result",
     "data": {
      "text/plain": "<re.Match object; span=(0, 14), match='1-213-867-5309'>"
     },
     "metadata": {},
     "execution_count": 101
    }
   ],
   "source": [
    "re.search(\n",
    "    r'(\\+?1)?[ .-]?\\(?([\\d]{3})\\)?[ .-]?([\\d]{3})[ .-]?([\\d]{4})',\n",
    "    '1-213-867-5309'\n",
    ")"
   ]
  },
  {
   "cell_type": "code",
   "execution_count": 102,
   "metadata": {},
   "outputs": [],
   "source": [
    "match = re.search(\n",
    "    r'(?P<first_three>[\\d]{3})-(?P<last_four>[\\d]{4})',\n",
    "    '867-5309'\n",
    ")"
   ]
  },
  {
   "cell_type": "code",
   "execution_count": 103,
   "metadata": {},
   "outputs": [
    {
     "output_type": "execute_result",
     "data": {
      "text/plain": "<re.Match object; span=(0, 8), match='867-5309'>"
     },
     "metadata": {},
     "execution_count": 103
    }
   ],
   "source": [
    "match"
   ]
  },
  {
   "cell_type": "code",
   "execution_count": 104,
   "metadata": {},
   "outputs": [
    {
     "output_type": "execute_result",
     "data": {
      "text/plain": "('867', '5309')"
     },
     "metadata": {},
     "execution_count": 104
    }
   ],
   "source": [
    "match.groups()"
   ]
  },
  {
   "cell_type": "code",
   "execution_count": 105,
   "metadata": {},
   "outputs": [
    {
     "output_type": "execute_result",
     "data": {
      "text/plain": "'867'"
     },
     "metadata": {},
     "execution_count": 105
    }
   ],
   "source": [
    "match.group(1)"
   ]
  },
  {
   "cell_type": "code",
   "execution_count": 106,
   "metadata": {},
   "outputs": [
    {
     "output_type": "execute_result",
     "data": {
      "text/plain": "'867'"
     },
     "metadata": {},
     "execution_count": 106
    }
   ],
   "source": [
    "match.group('first_three')"
   ]
  },
  {
   "cell_type": "code",
   "execution_count": 107,
   "metadata": {},
   "outputs": [
    {
     "output_type": "execute_result",
     "data": {
      "text/plain": "{'first_three': '867', 'last_four': '5309'}"
     },
     "metadata": {},
     "execution_count": 107
    }
   ],
   "source": [
    "match.groupdict()"
   ]
  },
  {
   "cell_type": "code",
   "execution_count": 108,
   "metadata": {},
   "outputs": [
    {
     "output_type": "execute_result",
     "data": {
      "text/plain": "<re.Match object; span=(0, 16), match='<foo>stuff</foo>'>"
     },
     "metadata": {},
     "execution_count": 108
    }
   ],
   "source": [
    "re.search(r'<([\\w_-]+)>stuff</([\\w_-]+)>', '<foo>stuff</foo>')"
   ]
  },
  {
   "cell_type": "code",
   "execution_count": 109,
   "metadata": {},
   "outputs": [],
   "source": [
    "match = re.search(r'<([\\w_-]+)>stuff</\\1>', '<foo>stuff</foo>')"
   ]
  },
  {
   "cell_type": "code",
   "execution_count": 110,
   "metadata": {},
   "outputs": [
    {
     "output_type": "execute_result",
     "data": {
      "text/plain": "<re.Match object; span=(0, 16), match='<foo>stuff</foo>'>"
     },
     "metadata": {},
     "execution_count": 110
    }
   ],
   "source": [
    "match"
   ]
  },
  {
   "cell_type": "code",
   "execution_count": 111,
   "metadata": {},
   "outputs": [
    {
     "output_type": "execute_result",
     "data": {
      "text/plain": "('foo',)"
     },
     "metadata": {},
     "execution_count": 111
    }
   ],
   "source": [
    "match.groups()"
   ]
  },
  {
   "cell_type": "code",
   "execution_count": 112,
   "metadata": {},
   "outputs": [],
   "source": [
    "re.search(r'<([\\w_-]+)>stuff</\\1>', '<foo>stuff</bar>')"
   ]
  },
  {
   "cell_type": "code",
   "execution_count": 113,
   "metadata": {},
   "outputs": [
    {
     "output_type": "execute_result",
     "data": {
      "text/plain": "<re.Match object; span=(2, 3), match='n'>"
     },
     "metadata": {},
     "execution_count": 113
    }
   ],
   "source": [
    "# Lookahead\n",
    "re.search(r'n(?!e)', 'final')"
   ]
  },
  {
   "cell_type": "code",
   "execution_count": 114,
   "metadata": {},
   "outputs": [],
   "source": [
    "re.search(r'n(?!e)', 'jasmine')"
   ]
  },
  {
   "cell_type": "code",
   "execution_count": 115,
   "metadata": {},
   "outputs": [
    {
     "output_type": "execute_result",
     "data": {
      "text/plain": "<re.Match object; span=(5, 6), match='n'>"
     },
     "metadata": {},
     "execution_count": 115
    }
   ],
   "source": [
    "re.search(r'n(?!e)', 'Python')"
   ]
  },
  {
   "cell_type": "code",
   "execution_count": 116,
   "metadata": {},
   "outputs": [
    {
     "output_type": "execute_result",
     "data": {
      "text/plain": "<re.Match object; span=(5, 6), match='n'>"
     },
     "metadata": {},
     "execution_count": 116
    }
   ],
   "source": [
    "re.search(r'n(?=e)', 'jasmine')"
   ]
  },
  {
   "cell_type": "code",
   "execution_count": 117,
   "metadata": {},
   "outputs": [
    {
     "output_type": "execute_result",
     "data": {
      "text/plain": "<re.Match object; span=(0, 6), match='PYTHON'>"
     },
     "metadata": {},
     "execution_count": 117
    }
   ],
   "source": [
    "re.search(r'python', 'PYTHON IS AWESOME', re.IGNORECASE)"
   ]
  },
  {
   "cell_type": "code",
   "execution_count": 120,
   "metadata": {},
   "outputs": [
    {
     "output_type": "execute_result",
     "data": {
      "text/plain": "<re.Match object; span=(0, 7), match='foo\\nbar'>"
     },
     "metadata": {},
     "execution_count": 120
    }
   ],
   "source": [
    "re.search(r'.+', 'foo\\nbar', re.DOTALL)"
   ]
  },
  {
   "cell_type": "code",
   "execution_count": 119,
   "metadata": {},
   "outputs": [
    {
     "output_type": "execute_result",
     "data": {
      "text/plain": "<re.Match object; span=(0, 3), match='foo'>"
     },
     "metadata": {},
     "execution_count": 119
    }
   ],
   "source": [
    "re.search(r'.+', 'foo\\nbar')"
   ]
  },
  {
   "cell_type": "code",
   "execution_count": 121,
   "metadata": {},
   "outputs": [],
   "source": [
    "re.search(r'^bar', 'foo\\nbar')"
   ]
  },
  {
   "cell_type": "code",
   "execution_count": 122,
   "metadata": {},
   "outputs": [
    {
     "output_type": "execute_result",
     "data": {
      "text/plain": "<re.Match object; span=(4, 7), match='bar'>"
     },
     "metadata": {},
     "execution_count": 122
    }
   ],
   "source": [
    "re.search(r'^bar', 'foo\\nbar', re.MULTILINE)"
   ]
  },
  {
   "cell_type": "code",
   "execution_count": 123,
   "metadata": {},
   "outputs": [
    {
     "output_type": "execute_result",
     "data": {
      "text/plain": "<re.Match object; span=(0, 8), match='867-5309'>"
     },
     "metadata": {},
     "execution_count": 123
    }
   ],
   "source": [
    "re.search(r'(?P<first_three>[\\d]{3})-(?P<last_four>[\\d]{4})', '867-5309')"
   ]
  },
  {
   "cell_type": "code",
   "execution_count": 124,
   "metadata": {},
   "outputs": [
    {
     "output_type": "execute_result",
     "data": {
      "text/plain": "<re.Match object; span=(0, 8), match='867-5309'>"
     },
     "metadata": {},
     "execution_count": 124
    }
   ],
   "source": [
    "re.search(\n",
    "    r\"\"\"(?P<first_three>[\\d]{3}) # The first three digits \n",
    "    - # A literal hyphen \n",
    "    (?P<last_four>[\\d]{4}) # The last four digits\"\"\",\n",
    "    '867-5309', re.VERBOSE)"
   ]
  },
  {
   "cell_type": "code",
   "execution_count": 125,
   "metadata": {
    "tags": []
   },
   "outputs": [
    {
     "output_type": "stream",
     "name": "stdout",
     "text": "SUBPATTERN 1 0 0\n  MAX_REPEAT 3 3\n    IN\n      CATEGORY CATEGORY_DIGIT\nLITERAL 45\nSUBPATTERN 2 0 0\n  MAX_REPEAT 4 4\n    IN\n      CATEGORY CATEGORY_DIGIT\n\n 0. INFO 4 0b0 8 8 (to 5)\n 5: MARK 0\n 7. REPEAT_ONE 9 3 3 (to 17)\n11.   IN 4 (to 16)\n13.     CATEGORY UNI_DIGIT\n15.     FAILURE\n16:   SUCCESS\n17: MARK 1\n19. LITERAL 0x2d ('-')\n21. MARK 2\n23. REPEAT_ONE 9 4 4 (to 33)\n27.   IN 4 (to 32)\n29.     CATEGORY UNI_DIGIT\n31.     FAILURE\n32:   SUCCESS\n33: MARK 3\n35. SUCCESS\n"
    },
    {
     "output_type": "execute_result",
     "data": {
      "text/plain": "<re.Match object; span=(0, 8), match='867-5309'>"
     },
     "metadata": {},
     "execution_count": 125
    }
   ],
   "source": [
    "re.search(\n",
    "    r'(?P<first_three>[\\d]{3})-(?P<last_four>[\\d]{4})',\n",
    "    '867-5309', re.DEBUG)"
   ]
  },
  {
   "cell_type": "code",
   "execution_count": 126,
   "metadata": {},
   "outputs": [
    {
     "output_type": "execute_result",
     "data": {
      "text/plain": "'foo'"
     },
     "metadata": {},
     "execution_count": 126
    }
   ],
   "source": [
    "re.search('(?i)FOO', 'foo').group()"
   ]
  }
 ]
}