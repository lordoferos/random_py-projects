{
 "metadata": {
  "language_info": {
   "codemirror_mode": {
    "name": "ipython",
    "version": 3
   },
   "file_extension": ".py",
   "mimetype": "text/x-python",
   "name": "python",
   "nbconvert_exporter": "python",
   "pygments_lexer": "ipython3",
   "version": "3.7.6-final"
  },
  "orig_nbformat": 2,
  "kernelspec": {
   "name": "python_defaultSpec_1597511296529",
   "display_name": "Python 3.7.6 64-bit ('base': conda)"
  }
 },
 "nbformat": 4,
 "nbformat_minor": 2,
 "cells": [
  {
   "cell_type": "code",
   "execution_count": 10,
   "metadata": {},
   "outputs": [],
   "source": [
    "import pyautogui\n",
    "pyautogui.click(50, 80, button='left')"
   ]
  },
  {
   "cell_type": "code",
   "execution_count": 12,
   "metadata": {},
   "outputs": [],
   "source": [
    "import pyautogui\n",
    "pyautogui.scroll(200)"
   ]
  },
  {
   "cell_type": "code",
   "execution_count": 13,
   "metadata": {},
   "outputs": [],
   "source": [
    "import pyperclip\n",
    "numbers = ''\n",
    "for i in range(200):\n",
    "    numbers = numbers + str(i) + '\\n'"
   ]
  },
  {
   "cell_type": "code",
   "execution_count": 14,
   "metadata": {},
   "outputs": [],
   "source": [
    "pyperclip.copy(numbers)"
   ]
  },
  {
   "cell_type": "code",
   "execution_count": 21,
   "metadata": {},
   "outputs": [],
   "source": [
    "import time, pyautogui\n",
    "time.sleep(7); pyautogui.scroll(100)"
   ]
  },
  {
   "cell_type": "code",
   "execution_count": 22,
   "metadata": {},
   "outputs": [],
   "source": [
    "import pyautogui\n",
    "im = pyautogui.screenshot()"
   ]
  },
  {
   "cell_type": "code",
   "execution_count": 23,
   "metadata": {},
   "outputs": [
    {
     "output_type": "execute_result",
     "data": {
      "text/plain": "(50, 50, 51)"
     },
     "metadata": {},
     "execution_count": 23
    }
   ],
   "source": [
    "im.getpixel((0,0))"
   ]
  },
  {
   "cell_type": "code",
   "execution_count": 24,
   "metadata": {},
   "outputs": [
    {
     "output_type": "execute_result",
     "data": {
      "text/plain": "(51, 51, 51)"
     },
     "metadata": {},
     "execution_count": 24
    }
   ],
   "source": [
    "im.getpixel((50, 200))"
   ]
  },
  {
   "cell_type": "code",
   "execution_count": 25,
   "metadata": {},
   "outputs": [],
   "source": [
    "im.save('merry.png')"
   ]
  },
  {
   "cell_type": "code",
   "execution_count": 26,
   "metadata": {},
   "outputs": [
    {
     "output_type": "execute_result",
     "data": {
      "text/plain": "(51, 51, 51)"
     },
     "metadata": {},
     "execution_count": 26
    }
   ],
   "source": [
    "im.getpixel((50,200))"
   ]
  },
  {
   "cell_type": "code",
   "execution_count": 27,
   "metadata": {},
   "outputs": [
    {
     "output_type": "execute_result",
     "data": {
      "text/plain": "False"
     },
     "metadata": {},
     "execution_count": 27
    }
   ],
   "source": [
    "pyautogui.pixelMatchesColor(50, 200, (130, 135, 144))"
   ]
  },
  {
   "cell_type": "code",
   "execution_count": 28,
   "metadata": {},
   "outputs": [
    {
     "output_type": "execute_result",
     "data": {
      "text/plain": "False"
     },
     "metadata": {},
     "execution_count": 28
    }
   ],
   "source": [
    "pyautogui.pixelMatchesColor(50, 200, (255, 135, 144))"
   ]
  },
  {
   "cell_type": "code",
   "execution_count": 32,
   "metadata": {},
   "outputs": [],
   "source": [
    "im = pyautogui.screenshot()\n",
    "im.save('merrytwo.png')"
   ]
  },
  {
   "cell_type": "code",
   "execution_count": 33,
   "metadata": {},
   "outputs": [],
   "source": [
    "import pyautogui\n",
    "pyautogui.locateOnScreen('merrytwo.png')"
   ]
  },
  {
   "cell_type": "code",
   "execution_count": 35,
   "metadata": {},
   "outputs": [
    {
     "output_type": "execute_result",
     "data": {
      "text/plain": "[]"
     },
     "metadata": {},
     "execution_count": 35
    }
   ],
   "source": [
    "list(pyautogui.locateAllOnScreen('problems.JPG'))"
   ]
  },
  {
   "cell_type": "code",
   "execution_count": 39,
   "metadata": {},
   "outputs": [],
   "source": [
    "import time\n",
    "time.sleep(10)\n",
    "pyautogui.click(100,100); pyautogui.typewrite('Hello world!\\nHow are you? \\nWhere were you born?', 0.25)"
   ]
  },
  {
   "cell_type": "code",
   "execution_count": 41,
   "metadata": {},
   "outputs": [],
   "source": [
    "time.sleep(10)\n",
    "pyautogui.typewrite(['a', 'b', 'left', 'left', 'X', 'Y'], 0.25)\n",
    "pyautogui.typewrite('enter')\n",
    "pyautogui.typewrite(['jakob', 'shiftleft','3', '#', 'backspace'], 0.25)\n",
    "pyautogui.typewrite('volumemute')"
   ]
  },
  {
   "cell_type": "code",
   "execution_count": 43,
   "metadata": {},
   "outputs": [],
   "source": [
    "time.sleep(7)"
   ]
  },
  {
   "cell_type": "code",
   "execution_count": 48,
   "metadata": {},
   "outputs": [],
   "source": [
    "pyautogui.hotkey('ctrl','c')\n",
    "time.sleep(5)\n",
    "pyautogui.hotkey('ctrl','v')"
   ]
  },
  {
   "cell_type": "code",
   "execution_count": 56,
   "metadata": {},
   "outputs": [],
   "source": [
    "def commentAfterDelay():\n",
    "    time.sleep(5)\n",
    "    pyautogui.click(100,100)\n",
    "    pyautogui.hotkey('shift','3')\n",
    "    pyautogui.typewrite('In IDLE, Alt-3 comments out a line.')\n",
    "    pyautogui.keyDown('enter')\n",
    "    pyautogui.keyUp('enter')\n",
    "    time.sleep(5)\n",
    "    pyautogui.hotkey('shift','3')"
   ]
  },
  {
   "cell_type": "code",
   "execution_count": 58,
   "metadata": {},
   "outputs": [],
   "source": [
    "commentAfterDelay()"
   ]
  }
 ]
}